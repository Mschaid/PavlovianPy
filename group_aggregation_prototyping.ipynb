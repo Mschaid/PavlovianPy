{
 "cells": [
  {
   "cell_type": "code",
   "execution_count": 9,
   "outputs": [],
   "source": [
    "import pandas as pd\n",
    "import os\n",
    "import glob\n",
    "import re\n",
    "import numpy as np"
   ],
   "metadata": {
    "collapsed": false,
    "pycharm": {
     "name": "#%%\n"
    }
   }
  },
  {
   "cell_type": "code",
   "execution_count": 13,
   "outputs": [],
   "source": [
    "df = (pd.read_hdf(\n",
    "    r\"R:\\Mike\\LHA_dopamine\\LH_NAC_Headfix_FP\\Photometry\\Pav Training\\2_color_pav\\Sucrose_to_sucralose\\Training\\Day_4\\average\\cue_GCAMPNAC_z_score_GCAMPNAC.h5\"\n",
    ").rolling(window=5, center=True).mean()\n",
    "      )"
   ],
   "metadata": {
    "collapsed": false,
    "pycharm": {
     "name": "#%%\n"
    }
   }
  },
  {
   "cell_type": "code",
   "execution_count": 14,
   "outputs": [
    {
     "data": {
      "text/plain": "       512581-220523-100913_output_1  512582-220523-105242_output_1  \\\n0                                NaN                            NaN   \n1                                NaN                            NaN   \n2                          -0.203847                      -0.062716   \n3                          -0.201181                      -0.060794   \n4                          -0.198600                      -0.058885   \n...                              ...                            ...   \n30514                       0.055226                      -0.189082   \n30515                       0.055091                      -0.187861   \n30516                       0.054853                      -0.186671   \n30517                            NaN                            NaN   \n30518                            NaN                            NaN   \n\n       512584-220523-114039_output_1  514957-220523-122035_output_1  \\\n0                                NaN                            NaN   \n1                                NaN                            NaN   \n2                           0.275320                      -0.228540   \n3                           0.275638                      -0.225256   \n4                           0.275944                      -0.221955   \n...                              ...                            ...   \n30514                       0.401803                      -0.069671   \n30515                       0.401988                      -0.067710   \n30516                       0.402178                      -0.065780   \n30517                            NaN                            NaN   \n30518                            NaN                            NaN   \n\n       514958-220523-125628_output_1  514959-220523-142123_output_1  \\\n0                                NaN                            NaN   \n1                                NaN                            NaN   \n2                          -0.095881                      -0.000523   \n3                          -0.095961                      -0.001388   \n4                          -0.096075                      -0.002263   \n...                              ...                            ...   \n30514                       0.191804                       0.268795   \n30515                       0.188220                       0.267736   \n30516                       0.184580                       0.266676   \n30517                            NaN                            NaN   \n30518                            NaN                            NaN   \n\n       timestamps      mean       err  \n0             NaN       NaN       NaN  \n1             NaN       NaN       NaN  \n2       -9.998034 -0.052698  0.067919  \n3       -9.997051 -0.051490  0.067537  \n4       -9.996068 -0.050305  0.067162  \n...           ...       ...       ...  \n30514   19.997051  0.109813  0.081958  \n30515   19.998034  0.109577  0.081582  \n30516   19.999017  0.109306  0.081216  \n30517         NaN       NaN       NaN  \n30518         NaN       NaN       NaN  \n\n[30519 rows x 9 columns]",
      "text/html": "<div>\n<style scoped>\n    .dataframe tbody tr th:only-of-type {\n        vertical-align: middle;\n    }\n\n    .dataframe tbody tr th {\n        vertical-align: top;\n    }\n\n    .dataframe thead th {\n        text-align: right;\n    }\n</style>\n<table border=\"1\" class=\"dataframe\">\n  <thead>\n    <tr style=\"text-align: right;\">\n      <th></th>\n      <th>512581-220523-100913_output_1</th>\n      <th>512582-220523-105242_output_1</th>\n      <th>512584-220523-114039_output_1</th>\n      <th>514957-220523-122035_output_1</th>\n      <th>514958-220523-125628_output_1</th>\n      <th>514959-220523-142123_output_1</th>\n      <th>timestamps</th>\n      <th>mean</th>\n      <th>err</th>\n    </tr>\n  </thead>\n  <tbody>\n    <tr>\n      <th>0</th>\n      <td>NaN</td>\n      <td>NaN</td>\n      <td>NaN</td>\n      <td>NaN</td>\n      <td>NaN</td>\n      <td>NaN</td>\n      <td>NaN</td>\n      <td>NaN</td>\n      <td>NaN</td>\n    </tr>\n    <tr>\n      <th>1</th>\n      <td>NaN</td>\n      <td>NaN</td>\n      <td>NaN</td>\n      <td>NaN</td>\n      <td>NaN</td>\n      <td>NaN</td>\n      <td>NaN</td>\n      <td>NaN</td>\n      <td>NaN</td>\n    </tr>\n    <tr>\n      <th>2</th>\n      <td>-0.203847</td>\n      <td>-0.062716</td>\n      <td>0.275320</td>\n      <td>-0.228540</td>\n      <td>-0.095881</td>\n      <td>-0.000523</td>\n      <td>-9.998034</td>\n      <td>-0.052698</td>\n      <td>0.067919</td>\n    </tr>\n    <tr>\n      <th>3</th>\n      <td>-0.201181</td>\n      <td>-0.060794</td>\n      <td>0.275638</td>\n      <td>-0.225256</td>\n      <td>-0.095961</td>\n      <td>-0.001388</td>\n      <td>-9.997051</td>\n      <td>-0.051490</td>\n      <td>0.067537</td>\n    </tr>\n    <tr>\n      <th>4</th>\n      <td>-0.198600</td>\n      <td>-0.058885</td>\n      <td>0.275944</td>\n      <td>-0.221955</td>\n      <td>-0.096075</td>\n      <td>-0.002263</td>\n      <td>-9.996068</td>\n      <td>-0.050305</td>\n      <td>0.067162</td>\n    </tr>\n    <tr>\n      <th>...</th>\n      <td>...</td>\n      <td>...</td>\n      <td>...</td>\n      <td>...</td>\n      <td>...</td>\n      <td>...</td>\n      <td>...</td>\n      <td>...</td>\n      <td>...</td>\n    </tr>\n    <tr>\n      <th>30514</th>\n      <td>0.055226</td>\n      <td>-0.189082</td>\n      <td>0.401803</td>\n      <td>-0.069671</td>\n      <td>0.191804</td>\n      <td>0.268795</td>\n      <td>19.997051</td>\n      <td>0.109813</td>\n      <td>0.081958</td>\n    </tr>\n    <tr>\n      <th>30515</th>\n      <td>0.055091</td>\n      <td>-0.187861</td>\n      <td>0.401988</td>\n      <td>-0.067710</td>\n      <td>0.188220</td>\n      <td>0.267736</td>\n      <td>19.998034</td>\n      <td>0.109577</td>\n      <td>0.081582</td>\n    </tr>\n    <tr>\n      <th>30516</th>\n      <td>0.054853</td>\n      <td>-0.186671</td>\n      <td>0.402178</td>\n      <td>-0.065780</td>\n      <td>0.184580</td>\n      <td>0.266676</td>\n      <td>19.999017</td>\n      <td>0.109306</td>\n      <td>0.081216</td>\n    </tr>\n    <tr>\n      <th>30517</th>\n      <td>NaN</td>\n      <td>NaN</td>\n      <td>NaN</td>\n      <td>NaN</td>\n      <td>NaN</td>\n      <td>NaN</td>\n      <td>NaN</td>\n      <td>NaN</td>\n      <td>NaN</td>\n    </tr>\n    <tr>\n      <th>30518</th>\n      <td>NaN</td>\n      <td>NaN</td>\n      <td>NaN</td>\n      <td>NaN</td>\n      <td>NaN</td>\n      <td>NaN</td>\n      <td>NaN</td>\n      <td>NaN</td>\n      <td>NaN</td>\n    </tr>\n  </tbody>\n</table>\n<p>30519 rows × 9 columns</p>\n</div>"
     },
     "execution_count": 14,
     "metadata": {},
     "output_type": "execute_result"
    }
   ],
   "source": [
    "df"
   ],
   "metadata": {
    "collapsed": false,
    "pycharm": {
     "name": "#%%\n"
    }
   }
  },
  {
   "cell_type": "code",
   "execution_count": null,
   "outputs": [],
   "source": [],
   "metadata": {
    "collapsed": false,
    "pycharm": {
     "name": "#%%\n"
    }
   }
  }
 ],
 "metadata": {
  "kernelspec": {
   "display_name": "Python 3",
   "language": "python",
   "name": "python3"
  },
  "language_info": {
   "codemirror_mode": {
    "name": "ipython",
    "version": 2
   },
   "file_extension": ".py",
   "mimetype": "text/x-python",
   "name": "python",
   "nbconvert_exporter": "python",
   "pygments_lexer": "ipython2",
   "version": "2.7.6"
  }
 },
 "nbformat": 4,
 "nbformat_minor": 0
}